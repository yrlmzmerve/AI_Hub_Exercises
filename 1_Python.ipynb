{
  "cells": [
    {
      "cell_type": "markdown",
      "source": [
        "# Chapter 1\n",
        "### Your first day at your new job 👩‍💻👨‍💻\n",
        "\n",
        "You are starting a new job as a junior software developer in an IT company. \n",
        "\n",
        "The company’s HR department asks you to fill out a form, so you start by assigning your personal information to corresponding variables.\n",
        "\n",
        "📌 Create a variable for your name, surname, age, ID number, place of residence, to specify if you have active health insurance or not, and lastly one for specifying your nationality.\n"
      ],
      "metadata": {
        "id": "VMuUK0ap_bRD"
      }
    },
    {
      "cell_type": "code",
      "execution_count": 49,
      "metadata": {
        "id": "OPLhhc2Sp-D0"
      },
      "outputs": [],
      "source": [
        "#Please assign your personal information to variables\n",
        "name=\"Joey\"\n",
        "surname=\" Tribbiani\"\n",
        "age=25\n",
        "ID=12345\n",
        "City = \"London\"\n",
        "health_insurance =  True\n",
        "#nationality = \"British\""
      ]
    },
    {
      "cell_type": "markdown",
      "metadata": {
        "id": "3zaUlxwcp-D0"
      },
      "source": [
        "###Meet And Greet\n",
        "Introduce yourself to your new co-workers.\n",
        "\n",
        "📌 Use a f-string to print \"My name is Joey Tribbiani I am 25 years old and I live in London”."
      ]
    },
    {
      "cell_type": "code",
      "source": [
        "#Write a sentence using the print function to describe yourself using the variables above in the correct data type\n",
        "\n",
        "print(\"My name is {} I am {} years old and I live in {} \".format(name + surname, age, City))"
      ],
      "metadata": {
        "id": "XNuh5_2WXwvg",
        "colab": {
          "base_uri": "https://localhost:8080/"
        },
        "outputId": "727a7217-d677-4c90-c8ed-dd23911d07e6"
      },
      "execution_count": 50,
      "outputs": [
        {
          "output_type": "stream",
          "name": "stdout",
          "text": [
            "My name is Joey Tribbiani I am 25 years old and I live in London \n"
          ]
        }
      ]
    },
    {
      "cell_type": "markdown",
      "metadata": {
        "id": "EEL9To4ip-D1"
      },
      "source": [
        "### Equipment starter pack\n",
        "The HR department asks you to list the items you would need to improve your work efficiency\n",
        "\n",
        "Mandatory:\n",
        "* Laptop\n",
        "* Headset\n",
        "* Second monitor\n",
        "\n",
        "Optional:\n",
        "* Mousepad\n",
        "* USB drive\n",
        "* External drive\n",
        "\n",
        "\n",
        "📌 Create a shopping list that contains items above and print it."
      ]
    },
    {
      "cell_type": "code",
      "execution_count": 35,
      "metadata": {
        "id": "fPFBLDyqp-D2"
      },
      "outputs": [],
      "source": [
        "#Create the item_list\n",
        "item_list = [\"Laptop\",\"Headset\", \"Second monitor\", \"Mousepad\", \"USB drive\",\"External drive\"]"
      ]
    },
    {
      "cell_type": "code",
      "source": [
        "#Print the list\n",
        "print(item_list)"
      ],
      "metadata": {
        "id": "358R_CN5U2-J",
        "colab": {
          "base_uri": "https://localhost:8080/"
        },
        "outputId": "e142b182-4664-4961-8170-a752137d266a"
      },
      "execution_count": 36,
      "outputs": [
        {
          "output_type": "stream",
          "name": "stdout",
          "text": [
            "['Laptop', 'Headset', 'Second monitor', 'Mousepad', 'USB drive', 'External drive']\n"
          ]
        }
      ]
    },
    {
      "cell_type": "markdown",
      "metadata": {
        "id": "5keEWjCyp-D2"
      },
      "source": [
        "####What is mandatory and what is optional?\n",
        "\n",
        "📌 Use list slicing to devide your list in two list: 'mandatory_item_list' and 'optional_item_list' and print both to the screen."
      ]
    },
    {
      "cell_type": "code",
      "execution_count": 37,
      "metadata": {
        "id": "E6ewuDYZp-D2"
      },
      "outputs": [],
      "source": [
        "#Use list slicing to divide the mandatory items\n",
        "mandatory_item_list = item_list[0:3]"
      ]
    },
    {
      "cell_type": "code",
      "source": [
        "#Use list slicing to divide the optional items\n",
        "optional_item_list = item_list[3:6]"
      ],
      "metadata": {
        "id": "hOmkym01RGEL"
      },
      "execution_count": 38,
      "outputs": []
    },
    {
      "cell_type": "code",
      "source": [
        "#Print both to the screen\n",
        "print(mandatory_item_list)\n",
        "print(optional_item_list)"
      ],
      "metadata": {
        "id": "xsVv1_msVE1_",
        "colab": {
          "base_uri": "https://localhost:8080/"
        },
        "outputId": "aa2c767b-89ce-4ef8-a176-afd7559c767f"
      },
      "execution_count": 39,
      "outputs": [
        {
          "output_type": "stream",
          "name": "stdout",
          "text": [
            "['Laptop', 'Headset', 'Second monitor']\n",
            "['Mousepad', 'USB drive', 'External drive']\n"
          ]
        }
      ]
    },
    {
      "cell_type": "markdown",
      "metadata": {
        "id": "s_M1Q93wp-D3"
      },
      "source": [
        "#### Go Shopping\n",
        "Next, you will have to go and purchase these items, the finance department confirmed a budget of $5000.\n",
        "\n",
        "📌 Assign 5000 to a variable called limit, so you know how much you can spend."
      ]
    },
    {
      "cell_type": "code",
      "execution_count": 40,
      "metadata": {
        "id": "nCmpm0oqp-D3"
      },
      "outputs": [],
      "source": [
        "#Assign the spending limit value to a variable called limit\n",
        "limit = 5000"
      ]
    },
    {
      "cell_type": "markdown",
      "metadata": {
        "id": "VwbEEymVp-D3"
      },
      "source": [
        "####Price dictionary\n",
        "\n",
        "Before you start shopping yo need to find the best items that you can buy within the company budget. \n",
        "\n",
        "📌 Prepare a dictionary called “price_sheet” that includes the items as keys and the prices as values.  \n",
        " "
      ]
    },
    {
      "cell_type": "code",
      "execution_count": 41,
      "metadata": {
        "id": "9o9n9Ag-p-D3"
      },
      "outputs": [],
      "source": [
        "#Create a dictionary that contains each item and its price\n",
        "\n",
        "price_sheet = { \n",
        "    \"Laptop\": 1500,\n",
        "    \"Headset\":100,\n",
        "    \"Second_monitor\":200,\n",
        "    \"Mousepad\":50,\n",
        "    \"USB drive\":70,\n",
        "    \"External drive\":250}\n"
      ]
    },
    {
      "cell_type": "code",
      "source": [
        "price_sheet[\"Laptop\"]"
      ],
      "metadata": {
        "colab": {
          "base_uri": "https://localhost:8080/"
        },
        "id": "qER7BgNCUTBw",
        "outputId": "be1ed965-8d0b-44d4-9c6b-25b5e2129249"
      },
      "execution_count": 42,
      "outputs": [
        {
          "output_type": "execute_result",
          "data": {
            "text/plain": [
              "1500"
            ]
          },
          "metadata": {},
          "execution_count": 42
        }
      ]
    },
    {
      "cell_type": "markdown",
      "metadata": {
        "id": "rUYivBVEBhCv"
      },
      "source": [
        "####Shopping functions\n",
        "\n",
        "You need to define three functions that will help you during shopping.\n",
        "\n",
        "📌 First, create an empty list that  will be your shopping cart. Here you will add the items you need to purchase.\n",
        "\n",
        "1. Define a function for both adding items to the cart and removing them from the item_list.\n",
        "\n",
        "📌 The \"add_to_cart\" function should take the item name and the quantity to buy as an argument. \n",
        "\n",
        "2. Define a function that will create an invoice. \n",
        "\n",
        "📌 The \"create_invoice\" function should calculate the taxes of each item (18%) and add it to the total amount.\n",
        "\n",
        "3. Define a function for the checkout. \n",
        "\n",
        "📌 The \"checkout\" function should subtract the total amount from the budget and print a statement to inform if the payment was successful. "
      ]
    },
    {
      "cell_type": "code",
      "source": [
        "#Initialize the cart list\n",
        "\n",
        "cart = []"
      ],
      "metadata": {
        "id": "dBNZ2ZdkGHUe"
      },
      "execution_count": 43,
      "outputs": []
    },
    {
      "cell_type": "code",
      "source": [
        "#Define the \"add_to_cart\" function\n",
        "def add_to_cart (item,quantity):\n",
        "  cart.append((item,quantity))"
      ],
      "metadata": {
        "id": "HH26hHHFGKPJ"
      },
      "execution_count": 44,
      "outputs": []
    },
    {
      "cell_type": "code",
      "source": [
        "#Define the \"create_invoice\" function\n",
        "def create_invoice():\n",
        "  total_amount_inc_tx=0\n",
        "\n",
        "  for item, quantity in cart:\n",
        "    price = price_sheet[item]\n",
        "    tax = 0.18 * price \n",
        "    total = (tax + price)*quantity\n",
        "    total_amount_inc_tx += total\n",
        "    print('Item:', item, \"\\t\", \"Price:\", price, \"\\t\", \"quantity:\", quantity, \"\\t\", \"Tax:\" , tax , \"\\t\", \"Totall: \", total, \"\\n\")\n",
        "\n",
        "  print(\"After the taxes are aplied the total amount is: \", \"\\t\", total_amount_inc_tx)\n",
        "  \n",
        "  return total_amount_inc_tx\n"
      ],
      "metadata": {
        "id": "TUmNr4xVGQdm"
      },
      "execution_count": 45,
      "outputs": []
    },
    {
      "cell_type": "code",
      "source": [
        "#Define the \"checkout\" function\n",
        "def checkout():\n",
        "  global limit\n",
        "  total_amount = create_invoice()\n",
        "  if limit ==0:\n",
        "    print(\"You dont have any budget\")\n",
        "  elif total_amount>limit:\n",
        "    print(\"The amount you have to pay is above the spending limit. You have to drop some items.\")\n",
        "  else:\n",
        "    limit  -= total_amount\n",
        "    print(f\"The total amount (incl. taxes) you 've paid is {total_amount}. You have {limit} dollars left\")\n"
      ],
      "metadata": {
        "id": "iUlKiXgMGdIk"
      },
      "execution_count": 46,
      "outputs": []
    },
    {
      "cell_type": "markdown",
      "source": [
        "Let's shop!"
      ],
      "metadata": {
        "id": "2IFUlu0yB0In"
      }
    },
    {
      "cell_type": "code",
      "source": [
        "price_sheet"
      ],
      "metadata": {
        "colab": {
          "base_uri": "https://localhost:8080/"
        },
        "id": "yMg9k9nkXVKf",
        "outputId": "0ef825a0-8af2-460f-fbd0-3fc6147ea31d"
      },
      "execution_count": 47,
      "outputs": [
        {
          "output_type": "execute_result",
          "data": {
            "text/plain": [
              "{'Laptop': 1500,\n",
              " 'Headset': 100,\n",
              " 'Second_monitor': 200,\n",
              " 'Mousepad': 50,\n",
              " 'USB drive': 70,\n",
              " 'External drive': 250}"
            ]
          },
          "metadata": {},
          "execution_count": 47
        }
      ]
    },
    {
      "cell_type": "code",
      "source": [
        "#Call the \"add_to_cart\" function for each item\n",
        " \n",
        "#Add first item to cart\n",
        "add_to_cart(\"Laptop\",1)\n",
        " \n",
        "#Add second item to cart\n",
        "add_to_cart(\"Headset\",8)\n",
        " \n",
        "#Add third item to cart\n",
        "add_to_cart(\"Second_monitor\",1)\n",
        " \n",
        "#Add fourth item to cart\n",
        "add_to_cart(\"Mousepad\",1)\n",
        " \n",
        "#Add fifth item to cart\n",
        "add_to_cart(\"USB drive\",2)\n",
        " \n",
        "#Add last item to cart\n",
        "add_to_cart(\"External drive\",4)\n",
        " \n",
        "#Call the create \"checkout\" function to pay for all your items \n",
        "checkout()"
      ],
      "metadata": {
        "id": "FDO7CRJTWPg7",
        "colab": {
          "base_uri": "https://localhost:8080/"
        },
        "outputId": "81b248a6-d864-4318-aa3c-190b5357f6e9"
      },
      "execution_count": 48,
      "outputs": [
        {
          "output_type": "stream",
          "name": "stdout",
          "text": [
            "Item: Laptop \t Price: 1500 \t quantity: 1 \t Tax: 270.0 \t Totall:  1770.0 \n",
            "\n",
            "Item: Headset \t Price: 100 \t quantity: 8 \t Tax: 18.0 \t Totall:  944.0 \n",
            "\n",
            "Item: Second_monitor \t Price: 200 \t quantity: 1 \t Tax: 36.0 \t Totall:  236.0 \n",
            "\n",
            "Item: Mousepad \t Price: 50 \t quantity: 1 \t Tax: 9.0 \t Totall:  59.0 \n",
            "\n",
            "Item: USB drive \t Price: 70 \t quantity: 2 \t Tax: 12.6 \t Totall:  165.2 \n",
            "\n",
            "Item: External drive \t Price: 250 \t quantity: 4 \t Tax: 45.0 \t Totall:  1180.0 \n",
            "\n",
            "After the taxes are aplied the total amount is:  \t 4354.2\n",
            "The total amount (incl. taxes) you 've paid is 4354.2. You have 645.8000000000002 dollars left\n"
          ]
        }
      ]
    },
    {
      "cell_type": "markdown",
      "source": [
        "###Game Night\n",
        "\n",
        "You are back at the office and the HR department organizes a welcome party for new employees. \n",
        "\n",
        "You decide to create a Rock-Paper-Scissor game. \n",
        "\n",
        "📌 Create a Rock-Paper-Scissor game in which the user plays against the computer. The player will choose one of the actions, and the computer will choose its action randomly.\n"
      ],
      "metadata": {
        "id": "ZL-r2x_xKixg"
      }
    },
    {
      "cell_type": "code",
      "source": [
        "#Import the random library\n"
      ],
      "metadata": {
        "id": "qzD5pxBTgcFb"
      },
      "execution_count": null,
      "outputs": []
    },
    {
      "cell_type": "code",
      "source": [
        "#create a list containing the three actions of the game.\n"
      ],
      "metadata": {
        "id": "oJv-ihLAgcRo"
      },
      "execution_count": null,
      "outputs": []
    },
    {
      "cell_type": "code",
      "source": [
        "#Set the scores of players to 0\n",
        "\n",
        "\n",
        "#Ask the user how many rounds they want to play\n",
        "\n",
        "\n",
        "#Add a round_counter that is 0 at the beginning\n",
        "\n",
        "\n",
        "#Write a while loop and put the game inside\n",
        "\n",
        "\n",
        "  #Increase round_counter by and print it\n",
        "  \n",
        "\n",
        "\n",
        "  #Select a random action for computer\n",
        "  \n",
        "\n",
        "  #Ask player to choose an action\n",
        "  \n",
        "\n",
        "  #Print the players choices\n",
        "  \n",
        "\n",
        "\n",
        "\n",
        "  #tie condition\n",
        "  \n",
        "\n",
        "\n",
        "  #Remaining conditions\n",
        "  \n",
        "\n",
        "\n",
        "\n",
        "\n",
        "\n",
        "  #Stop the while loop if the round_counter equals the number of total rounds\n",
        "  \n",
        "\n",
        "\n",
        "#Print the outcome of the game by using conditional statements\n"
      ],
      "metadata": {
        "id": "DNUa_9afWqMd"
      },
      "execution_count": null,
      "outputs": []
    },
    {
      "cell_type": "markdown",
      "metadata": {
        "id": "jdrYN0Xgp-D6"
      },
      "source": [
        "# Your first task \n",
        "\n",
        "Rachel asks you to write a program to track the name and revenue each employee brings.  \n",
        "\n",
        "* Create the \"salesperson_revenue\" dictionary to see the employee name as a key and the revenue as a value.\n",
        "\n",
        "  📌 Every employee starts with 0 revenue.\n",
        "* Define the \"enter_revenue\" function. \n",
        "\n",
        "  📌 The function takes the name and revenue as an argument and updates the salesperson_revenue dictionary.\n"
      ]
    },
    {
      "cell_type": "code",
      "source": [
        "#Create salesperson_revenue dictionary\n",
        "\n"
      ],
      "metadata": {
        "id": "3vzRo7hyMRv2"
      },
      "execution_count": null,
      "outputs": []
    },
    {
      "cell_type": "code",
      "source": [
        "#Define enter_revenue function\n",
        "\n"
      ],
      "metadata": {
        "id": "m-8IozBwMRzM"
      },
      "execution_count": null,
      "outputs": []
    },
    {
      "cell_type": "markdown",
      "source": [
        "####Try out the functions\n",
        "* In a while loop ask the user to give the name of the employee and for the revenue \n",
        "\n",
        "  📌 If the user enters “quit” the loop should break.\n",
        "\n",
        "After that, print out the salesperson_revenue dictionary.\n"
      ],
      "metadata": {
        "id": "UnTGSoNTi58u"
      }
    },
    {
      "cell_type": "code",
      "source": [
        "#Asking user employee name as input\n"
      ],
      "metadata": {
        "id": "2E549VvFXNi6"
      },
      "execution_count": null,
      "outputs": []
    },
    {
      "cell_type": "code",
      "source": [
        "#Print the salesperson_revenue dictionary\n"
      ],
      "metadata": {
        "id": "OAvl9rgOXPe6"
      },
      "execution_count": null,
      "outputs": []
    }
  ],
  "metadata": {
    "interpreter": {
      "hash": "c5914ae3790566b9cd0e984a9bdda42a29da8adf046b5ac0173e0d37aacf3dab"
    },
    "kernelspec": {
      "display_name": "Python 3.9.7",
      "language": "python",
      "name": "python3"
    },
    "language_info": {
      "codemirror_mode": {
        "name": "ipython",
        "version": 3
      },
      "file_extension": ".py",
      "mimetype": "text/x-python",
      "name": "python",
      "nbconvert_exporter": "python",
      "pygments_lexer": "ipython3",
      "version": "3.9.7"
    },
    "orig_nbformat": 4,
    "colab": {
      "provenance": [],
      "collapsed_sections": []
    }
  },
  "nbformat": 4,
  "nbformat_minor": 0
}